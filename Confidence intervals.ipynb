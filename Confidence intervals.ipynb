{
 "cells": [
  {
   "cell_type": "code",
   "execution_count": 1,
   "id": "af48ab6e",
   "metadata": {},
   "outputs": [],
   "source": [
    "import numpy as np\n",
    "from scipy.stats import norm, t"
   ]
  },
  {
   "cell_type": "code",
   "execution_count": 3,
   "id": "bc0d7e97",
   "metadata": {},
   "outputs": [],
   "source": [
    "np.random.seed(1)"
   ]
  },
  {
   "cell_type": "code",
   "execution_count": 4,
   "id": "9c2462db",
   "metadata": {},
   "outputs": [],
   "source": [
    "N = 1000\n",
    "mu = 5\n",
    "sigma = 2\n",
    "X = np.random.randn(N)*sigma + mu"
   ]
  },
  {
   "cell_type": "code",
   "execution_count": 7,
   "id": "5208b9cf",
   "metadata": {},
   "outputs": [
    {
     "name": "stdout",
     "output_type": "stream",
     "text": [
      "5.077624952319204 4.955959806754385 5.199290097884023\n"
     ]
    }
   ],
   "source": [
    "# Z-confidence interval\n",
    "mu_hat = np.mean(X)\n",
    "sigma_hat = np.std(X, ddof=1)\n",
    "z_left = norm.ppf(0.025)\n",
    "z_right = norm.ppf(0.975)\n",
    "\n",
    "lower = mu_hat + z_left*sigma_hat/np.sqrt(N)\n",
    "upper = mu_hat + z_right*sigma_hat/np.sqrt(N)\n",
    "\n",
    "print(mu_hat, lower, upper)"
   ]
  },
  {
   "cell_type": "code",
   "execution_count": 8,
   "id": "19e76fb7",
   "metadata": {},
   "outputs": [
    {
     "name": "stdout",
     "output_type": "stream",
     "text": [
      "5.077624952319204 4.9558122244324165 5.199437680205992\n"
     ]
    }
   ],
   "source": [
    "#t-confidence interval\n",
    "mu_hat = np.mean(X)\n",
    "sigma_hat = np.std(X, ddof=1)\n",
    "t_left = t.ppf(0.025, df=N-1)\n",
    "t_right = t.ppf(0.975, df=N-1)\n",
    "lower = mu_hat + t_left*sigma_hat/np.sqrt(N)\n",
    "upper = mu_hat + t_right*sigma_hat/np.sqrt(N)\n",
    "print(mu_hat, lower, upper)"
   ]
  },
  {
   "cell_type": "code",
   "execution_count": 9,
   "id": "bbb04161",
   "metadata": {},
   "outputs": [],
   "source": [
    "# if we do this experiment many times, for the 95% CI\n",
    "# the 95% CI should contain the true value 95% of the time\n",
    "def experiment():\n",
    "    X = np.random.randn(N)*sigma + mu\n",
    "    mu_hat = np.mean(X)\n",
    "    sigma_hat = np.std(X, ddof=1)\n",
    "    t_left = t.ppf(0.025, df=N-1)\n",
    "    t_right = t.ppf(0.975, df=N-1)\n",
    "    lower = mu_hat + t_left*sigma_hat/np.sqrt(N)\n",
    "    upper = mu_hat + t_right*sigma_hat/np.sqrt(N)\n",
    "    return mu > lower and mu < upper\n"
   ]
  },
  {
   "cell_type": "code",
   "execution_count": 10,
   "id": "b1ad24e9",
   "metadata": {},
   "outputs": [],
   "source": [
    "def multi_experiment(M):\n",
    "    results = [experiment() for _ in range(M)]\n",
    "    return np.mean(results)\n"
   ]
  },
  {
   "cell_type": "code",
   "execution_count": 40,
   "id": "1f9570df",
   "metadata": {},
   "outputs": [
    {
     "data": {
      "text/plain": [
       "0.94"
      ]
     },
     "execution_count": 40,
     "metadata": {},
     "output_type": "execute_result"
    }
   ],
   "source": [
    "multi_experiment(50)"
   ]
  },
  {
   "cell_type": "code",
   "execution_count": 42,
   "id": "a3a6f7a5",
   "metadata": {},
   "outputs": [
    {
     "data": {
      "text/plain": [
       "'C:\\\\Users\\\\s4612643'"
      ]
     },
     "execution_count": 42,
     "metadata": {},
     "output_type": "execute_result"
    }
   ],
   "source": [
    "import os\n",
    "os.getcwd()"
   ]
  }
 ],
 "metadata": {
  "kernelspec": {
   "display_name": "Python 3 (ipykernel)",
   "language": "python",
   "name": "python3"
  },
  "language_info": {
   "codemirror_mode": {
    "name": "ipython",
    "version": 3
   },
   "file_extension": ".py",
   "mimetype": "text/x-python",
   "name": "python",
   "nbconvert_exporter": "python",
   "pygments_lexer": "ipython3",
   "version": "3.8.12"
  }
 },
 "nbformat": 4,
 "nbformat_minor": 5
}
