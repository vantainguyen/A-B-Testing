{
  "nbformat": 4,
  "nbformat_minor": 0,
  "metadata": {
    "colab": {
      "name": "Bandit_program.ipynb",
      "provenance": [],
      "collapsed_sections": [],
      "authorship_tag": "ABX9TyPIg7gBtUvDESCJgTseLIvS",
      "include_colab_link": true
    },
    "kernelspec": {
      "name": "python3",
      "display_name": "Python 3"
    },
    "language_info": {
      "name": "python"
    }
  },
  "cells": [
    {
      "cell_type": "markdown",
      "metadata": {
        "id": "view-in-github",
        "colab_type": "text"
      },
      "source": [
        "<a href=\"https://colab.research.google.com/github/vantainguyen/A-B-Testing/blob/main/Bandit_program.ipynb\" target=\"_parent\"><img src=\"https://colab.research.google.com/assets/colab-badge.svg\" alt=\"Open In Colab\"/></a>"
      ]
    },
    {
      "cell_type": "code",
      "execution_count": 1,
      "metadata": {
        "id": "TQJ1ihq8IwVo"
      },
      "outputs": [],
      "source": [
        "import matplotlib.pyplot as plt\n",
        "import numpy as np"
      ]
    },
    {
      "cell_type": "code",
      "source": [
        "NUM_TRIALS = 10000\n",
        "EPS = 0.1\n",
        "BANDIT_PROBABILITIES = [0.2, 0.5, 0.75]\n"
      ],
      "metadata": {
        "id": "5bKBvLNIKClg"
      },
      "execution_count": 14,
      "outputs": []
    },
    {
      "cell_type": "code",
      "source": [
        "class Bandit:\n",
        "  def __init__(self, p):\n",
        "    # p : the win rate\n",
        "    self.p = p\n",
        "    self.p_estimate = 0.\n",
        "    self.N = 0. # num samples collected so far\n",
        "\n",
        "  def pull(self):\n",
        "    # draw a 1 with probability p\n",
        "    return np.random.random() < self.p\n",
        "\n",
        "  def update(self, x):\n",
        "    self.N += 1. \n",
        "    self.p_estimate = ((self.N - 1)*self.p_estimate + x)/self.N\n",
        "  \n"
      ],
      "metadata": {
        "id": "7fHmsER3KRt9"
      },
      "execution_count": 4,
      "outputs": []
    },
    {
      "cell_type": "code",
      "source": [
        "def experiment():\n",
        "  bandits = [Bandit(p) for p in BANDIT_PROBABILITIES]\n",
        "\n",
        "  rewards = np.zeros(NUM_TRIALS)\n",
        "  num_times_explored = 0\n",
        "  num_times_exploited = 0\n",
        "  num_optimal = 0\n",
        "  optimal_j = np.argmax([b.p for b in bandits])\n",
        "  print(\"optimal j:\", optimal_j)\n",
        "\n",
        "  for i in range(NUM_TRIALS):\n",
        "    # use epsilon-greedy to select the next bandit\n",
        "    if np.random.random() < EPS:\n",
        "      num_times_explored += 1\n",
        "      j = np.random.randint(len(bandits))\n",
        "    else:\n",
        "      num_times_exploited += 1\n",
        "      j = np.argmax([b.p_estimate for b in bandits])\n",
        "\n",
        "    if j == optimal_j:\n",
        "      num_optimal += 1\n",
        "\n",
        "    # pull the arm for the bandit with the largest sample\n",
        "    x = bandits[j].pull()\n",
        "    # update rewards log\n",
        "    rewards[i] = x\n",
        "\n",
        "    # update the distribution for the bandit whose arm we just pulled\n",
        "    bandits[j].update(x)\n",
        "\n",
        "  for b in bandits:\n",
        "    print(\"mean estimate:\", b.p_estimate)\n",
        "\n",
        "  # print total reward\n",
        "\n",
        "  print(\"total reward earned:\", rewards.sum())\n",
        "  print(\"overall win rate:\", rewards.sum()/NUM_TRIALS)\n",
        "  print(\"num_times_explored:\", num_times_explored)\n",
        "  print(\"num_times_exploited:\", num_times_exploited)\n",
        "  print(\"num times selected optimal bandit:\", num_optimal)\n",
        "\n",
        "  # plot the results\n",
        "  cumulative_rewards = np.cumsum(rewards)\n",
        "  win_rates = cumulative_rewards/(np.arange(NUM_TRIALS)+1)\n",
        "  plt.plot(win_rates)\n",
        "  plt.plot(np.ones(NUM_TRIALS)*np.max(BANDIT_PROBABILITIES))\n",
        "  plt.show()\n",
        "\n",
        "if __name__ == \"__main__\":\n",
        "  experiment()\n"
      ],
      "metadata": {
        "id": "ec2aSVkeTYWD",
        "colab": {
          "base_uri": "https://localhost:8080/",
          "height": 429
        },
        "outputId": "53b5e333-83b8-44d0-9ae6-d4b2220ca936"
      },
      "execution_count": 15,
      "outputs": [
        {
          "output_type": "stream",
          "name": "stdout",
          "text": [
            "optimal j: 2\n",
            "mean estimate: 0.23641304347826073\n",
            "mean estimate: 0.5135135135135142\n",
            "mean estimate: 0.7454922959239422\n",
            "total reward earned: 7156.0\n",
            "overall win rate: 0.7156\n",
            "num_times_explored: 1003\n",
            "num_times_exploited: 8997\n",
            "num times selected optimal bandit: 9151\n"
          ]
        },
        {
          "output_type": "display_data",
          "data": {
            "text/plain": [
              "<Figure size 432x288 with 1 Axes>"
            ],
            "image/png": "[encoded data removed]"
          },
          "metadata": {
            "needs_background": "light"
          }
        }
      ]
    }
  ]
}