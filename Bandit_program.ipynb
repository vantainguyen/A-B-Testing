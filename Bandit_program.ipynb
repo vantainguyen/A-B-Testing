{
  "nbformat": 4,
  "nbformat_minor": 0,
  "metadata": {
    "colab": {
      "name": "Bandit_program.ipynb",
      "provenance": [],
      "collapsed_sections": [],
      "authorship_tag": "ABX9TyNSjqFIMkxJ5jMCGPPXMzUJ",
      "include_colab_link": true
    },
    "kernelspec": {
      "name": "python3",
      "display_name": "Python 3"
    },
    "language_info": {
      "name": "python"
    }
  },
  "cells": [
    {
      "cell_type": "markdown",
      "metadata": {
        "id": "view-in-github",
        "colab_type": "text"
      },
      "source": [
        "<a href=\"https://colab.research.google.com/github/vantainguyen/A-B-Testing/blob/main/Bandit_program.ipynb\" target=\"_parent\"><img src=\"https://colab.research.google.com/assets/colab-badge.svg\" alt=\"Open In Colab\"/></a>"
      ]
    },
    {
      "cell_type": "code",
      "execution_count": 2,
      "metadata": {
        "id": "TQJ1ihq8IwVo"
      },
      "outputs": [],
      "source": [
        "import matplotlib.pyplot as plt\n",
        "import numpy as np"
      ]
    },
    {
      "cell_type": "code",
      "source": [
        "NUM_TRIALS = 10000\n",
        "EPS = 0.1\n",
        "BANDIT_PROBABILITIES = [0.2, 0.5, 0.75]\n"
      ],
      "metadata": {
        "id": "5bKBvLNIKClg"
      },
      "execution_count": 3,
      "outputs": []
    },
    {
      "cell_type": "code",
      "source": [
        "class Bandit:\n",
        "  def __init__(self, p):\n",
        "    # p : the win rate\n",
        "    self.p = p\n",
        "    self.p_estimate = 0.\n",
        "    self.N = 0. # num samples collected so far\n",
        "\n",
        "  def pull(self):\n",
        "    # draw a 1 with probability p\n",
        "    return np.random.random() < self.p\n",
        "\n",
        "  def update(self, x):\n",
        "    self.N += 1. \n",
        "    self.p_estimate = ((self.N - 1)*self.p_estimate + x)/self.N\n",
        "  \n"
      ],
      "metadata": {
        "id": "7fHmsER3KRt9"
      },
      "execution_count": 4,
      "outputs": []
    },
    {
      "cell_type": "code",
      "source": [
        "def experiment():\n",
        "  bandits = [Bandit(p) for p in BANDIT_PROBABILITIES]\n",
        "\n",
        "  rewards = np.zeros(NUM_TRIALS)\n",
        "  num_times_explored = 0\n",
        "  num_times_explored = 0\n",
        "  num_optional = 0\n",
        "  optimal_j = np.argmax([b.p for b in bandits])\n",
        "  print(\"optimal j:\", optimal_j)\n",
        "\n",
        "  for i in range(NUM_TRIALS):\n",
        "    # use epsilon-greedy to select the next bandit\n",
        "    if np.random.random() < EPS:\n",
        "      num_times_explored += 1\n",
        "      j = np.random.randint(len(bandits))\n",
        "    else:\n",
        "      num_times_exploited += 1\n",
        "      j = np.argmax([b.p_estimate for b in bandits])\n",
        "\n",
        "    if j == optimal_j:\n",
        "      num_optimal += 1\n",
        "\n",
        "    # pull the arm for the bandit with the largest sample\n",
        "    x = bandits[j].pull()\n",
        "    # update rewards log\n",
        "    rewards[i] = x\n",
        "\n",
        "    # update the distribution for the bandit whose arm we just pulled\n",
        "    bandits[j].update(x)\n",
        "\n",
        "    \n"
      ],
      "metadata": {
        "id": "ec2aSVkeTYWD"
      },
      "execution_count": null,
      "outputs": []
    },
    {
      "cell_type": "code",
      "source": [
        "\n"
      ],
      "metadata": {
        "colab": {
          "base_uri": "https://localhost:8080/"
        },
        "id": "YcSaCcbYWB-7",
        "outputId": "c01e5ab1-d7ee-4f75-eb74-7c8cf80b316a"
      },
      "execution_count": 5,
      "outputs": [
        {
          "output_type": "execute_result",
          "data": {
            "text/plain": [
              "2"
            ]
          },
          "metadata": {},
          "execution_count": 5
        }
      ]
    }
  ]
}