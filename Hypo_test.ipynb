{
 "cells": [
  {
   "cell_type": "code",
   "execution_count": 5,
   "id": "b41e0e0a",
   "metadata": {},
   "outputs": [
    {
     "name": "stdout",
     "output_type": "stream",
     "text": [
      "z-score is -0.8501022840844511\n"
     ]
    }
   ],
   "source": [
    "import numpy as np\n",
    "p = 0.18\n",
    "mu = p\n",
    "std = np.sqrt(p*(1-p))\n",
    "\n",
    "# Sampling distribution\n",
    "n = 150\n",
    "mu_hat = p\n",
    "std_hat = std/np.sqrt(n)\n",
    "\n",
    "p_hat = 23/150\n",
    "# checking assumptions\n",
    "\n",
    "if n*p_hat > 10 and n*(1-p_hat) > 10:\n",
    "    p_cric = (p_hat - mu_hat)/std_hat\n",
    "    print(f'z-score is {p_cric}')\n",
    "else:\n",
    "    print('Conditions not met')"
   ]
  },
  {
   "cell_type": "code",
   "execution_count": 6,
   "id": "b14b7115",
   "metadata": {},
   "outputs": [
    {
     "data": {
      "text/plain": [
       "False"
      ]
     },
     "execution_count": 6,
     "metadata": {},
     "output_type": "execute_result"
    }
   ],
   "source": [
    "#null-hypo\n",
    "mu_hat <= .18\n",
    "#alter hypo\n",
    "mu_hat > .18"
   ]
  },
  {
   "cell_type": "code",
   "execution_count": 7,
   "id": "86299a77",
   "metadata": {},
   "outputs": [
    {
     "data": {
      "text/plain": [
       "0.15333333333333332"
      ]
     },
     "execution_count": 7,
     "metadata": {},
     "output_type": "execute_result"
    }
   ],
   "source": [
    "# p_value = 0.1977 > 0.05  ----> cannot reject the null hypothesis\n",
    "23/150"
   ]
  }
 ],
 "metadata": {
  "kernelspec": {
   "display_name": "Python 3 (ipykernel)",
   "language": "python",
   "name": "python3"
  },
  "language_info": {
   "codemirror_mode": {
    "name": "ipython",
    "version": 3
   },
   "file_extension": ".py",
   "mimetype": "text/x-python",
   "name": "python",
   "nbconvert_exporter": "python",
   "pygments_lexer": "ipython3",
   "version": "3.8.12"
  }
 },
 "nbformat": 4,
 "nbformat_minor": 5
}
