{
 "cells": [
  {
   "cell_type": "markdown",
   "id": "f35b6514",
   "metadata": {},
   "source": [
    "# Z-test for synthetic data"
   ]
  },
  {
   "cell_type": "code",
   "execution_count": 36,
   "id": "485ced45",
   "metadata": {},
   "outputs": [],
   "source": [
    "import numpy as np\n",
    "from scipy.stats import norm\n",
    "from statsmodels.stats.weightstats import ztest\n",
    "import matplotlib.pyplot as plt"
   ]
  },
  {
   "cell_type": "code",
   "execution_count": 34,
   "id": "6ab87bdb",
   "metadata": {},
   "outputs": [],
   "source": [
    "np.random.seed(0)"
   ]
  },
  {
   "cell_type": "code",
   "execution_count": 48,
   "id": "5add08f8",
   "metadata": {},
   "outputs": [],
   "source": [
    "N = 100\n",
    "mu = .2\n",
    "sigma = 1\n",
    "x = np.random.randn(N)*sigma + mu"
   ]
  },
  {
   "cell_type": "code",
   "execution_count": 49,
   "id": "eda6c661",
   "metadata": {},
   "outputs": [
    {
     "data": {
      "text/plain": [
       "(2.599440745939064, 0.009337579758932124)"
      ]
     },
     "execution_count": 49,
     "metadata": {},
     "output_type": "execute_result"
    }
   ],
   "source": [
    "# two-sided test\n",
    "ztest(x)"
   ]
  },
  {
   "cell_type": "code",
   "execution_count": 50,
   "id": "b493e486",
   "metadata": {},
   "outputs": [
    {
     "data": {
      "text/plain": [
       "(2.599440745939064, 0.009337579758932124)"
      ]
     },
     "execution_count": 50,
     "metadata": {},
     "output_type": "execute_result"
    }
   ],
   "source": [
    "# two-sided test own code\n",
    "mu_hat = x.mean()\n",
    "sigma_hat = x.std(ddof=1)\n",
    "z = mu_hat/(sigma_hat/np.sqrt(N)) # the mu0 = 0\n",
    "p_right = 1 - norm.cdf(np.abs(z)) # we can use norm.sf (survival function) instead of 1 - norm.cdf\n",
    "p_left = norm.cdf(-np.abs(z))\n",
    "\n",
    "p = p_right + p_left\n",
    "\n",
    "z, p"
   ]
  },
  {
   "cell_type": "code",
   "execution_count": 51,
   "id": "54eb017b",
   "metadata": {},
   "outputs": [
    {
     "data": {
      "text/plain": [
       "(2.599440745939064, 0.004668789879466062)"
      ]
     },
     "execution_count": 51,
     "metadata": {},
     "output_type": "execute_result"
    }
   ],
   "source": [
    "# one-sided test\n",
    "ztest(x, alternative='larger')"
   ]
  },
  {
   "cell_type": "code",
   "execution_count": 55,
   "id": "9b13a5ec",
   "metadata": {},
   "outputs": [
    {
     "data": {
      "text/plain": [
       "(2.599440745939064, 0.004668789879466062)"
      ]
     },
     "execution_count": 55,
     "metadata": {},
     "output_type": "execute_result"
    }
   ],
   "source": [
    "# one-sided test with our own code\n",
    "mu_hat = x.mean()\n",
    "sigma_hat = x.std(ddof=1)\n",
    "z = mu_hat/(sigma_hat/np.sqrt(N))\n",
    "\n",
    "p_right = 1 - norm.cdf(z) #norm.sf(z)\n",
    "\n",
    "z, p_right"
   ]
  },
  {
   "cell_type": "code",
   "execution_count": 56,
   "id": "77378d37",
   "metadata": {},
   "outputs": [
    {
     "data": {
      "text/plain": [
       "(0.4648616798782692, 0.642030513949184)"
      ]
     },
     "execution_count": 56,
     "metadata": {},
     "output_type": "execute_result"
    }
   ],
   "source": [
    "# null under a different reference value\n",
    "mu0 = 0.2\n",
    "ztest(x, value=mu0)"
   ]
  },
  {
   "cell_type": "code",
   "execution_count": 58,
   "id": "db05bca4",
   "metadata": {},
   "outputs": [
    {
     "data": {
      "text/plain": [
       "(0.4648616798782692, 0.642030513949184)"
      ]
     },
     "execution_count": 58,
     "metadata": {},
     "output_type": "execute_result"
    }
   ],
   "source": [
    "# our own code\n",
    "mu_hat = x.mean()\n",
    "sigma_hat = x.std(ddof=1)\n",
    "z = (mu_hat - mu0)/(sigma_hat/np.sqrt(N))\n",
    "p_right = 1 - norm.cdf(np.abs(z))\n",
    "p_left = norm.cdf(-np.abs(z))\n",
    "p = p_right + p_left\n",
    "\n",
    "z, p"
   ]
  },
  {
   "cell_type": "code",
   "execution_count": 69,
   "id": "cf72ed2f",
   "metadata": {},
   "outputs": [],
   "source": [
    "# two-sample test\n",
    "N0 = 100\n",
    "mu0 = .2\n",
    "sigma0 = 1\n",
    "x0 = np.random.randn(N0)*sigma0 + mu0\n",
    "\n",
    "N1 = 100\n",
    "mu1 = .5\n",
    "sigma1 = 1\n",
    "x1 = np.random.randn(N1)*sigma1 + mu1"
   ]
  },
  {
   "cell_type": "code",
   "execution_count": 70,
   "id": "3fc54cec",
   "metadata": {},
   "outputs": [
    {
     "data": {
      "text/plain": [
       "(array([ 3.,  3.,  9., 14., 23., 14., 15., 11.,  6.,  2.]),\n",
       " array([-1.8536404 , -1.38453539, -0.91543039, -0.44632538,  0.02277962,\n",
       "         0.49188463,  0.96098964,  1.43009464,  1.89919965,  2.36830466,\n",
       "         2.83740966]),\n",
       " <BarContainer object of 10 artists>)"
      ]
     },
     "execution_count": 70,
     "metadata": {},
     "output_type": "execute_result"
    },
    {
     "data": {
      "image/png": "[encoded data removed]",
      "text/plain": [
       "<Figure size 432x288 with 1 Axes>"
      ]
     },
     "metadata": {
      "needs_background": "light"
     },
     "output_type": "display_data"
    }
   ],
   "source": [
    "# Plotting generated distribution\n",
    "plt.hist(x0, color = 'r')\n",
    "plt.hist(x1, color = 'black')"
   ]
  },
  {
   "cell_type": "code",
   "execution_count": 71,
   "id": "09b8ce63",
   "metadata": {},
   "outputs": [
    {
     "data": {
      "text/plain": [
       "(-3.2447277831603767, 0.0011756294983814993)"
      ]
     },
     "execution_count": 71,
     "metadata": {},
     "output_type": "execute_result"
    }
   ],
   "source": [
    "ztest(x0, x1)"
   ]
  },
  {
   "cell_type": "code",
   "execution_count": 76,
   "id": "012eeaa3",
   "metadata": {},
   "outputs": [
    {
     "data": {
      "text/plain": [
       "(-3.2447277831603767,\n",
       " 0.0011756294983815345,\n",
       " 0.0005878147491907848,\n",
       " 0.0005878147491907497)"
      ]
     },
     "execution_count": 76,
     "metadata": {},
     "output_type": "execute_result"
    }
   ],
   "source": [
    "# our own code\n",
    "mu_hat0 = x0.mean()\n",
    "mu_hat1 = x1.mean()\n",
    "delta = mu_hat0 - mu_hat1\n",
    "\n",
    "sigma0_hat = x0.std(ddof=1)\n",
    "sigma1_hat = x1.std(ddof=1)\n",
    "\n",
    "s_sigma_delta = np.sqrt(sigma0_hat**2/N0 + sigma1_hat**2/N1)\n",
    "\n",
    "z = delta/s_sigma_delta\n",
    "\n",
    "p_right = 1 - norm.cdf(np.abs(z))\n",
    "p_left = norm.cdf(-np.abs(z))\n",
    "\n",
    "p = p_right + p_left\n",
    "\n",
    "z, p, p_right, p_left"
   ]
  },
  {
   "cell_type": "code",
   "execution_count": 83,
   "id": "6ae132fb",
   "metadata": {},
   "outputs": [
    {
     "name": "stdout",
     "output_type": "stream",
     "text": [
      "0.0515\n"
     ]
    }
   ],
   "source": [
    "# show that we will reject the null hypothesis when the null hypothesis is true (false alarm) 5% of the time\n",
    "num_tests = 10000\n",
    "results = np.zeros(num_tests)\n",
    "\n",
    "for i in range(num_tests):\n",
    "    x1 = np.random.randn(1000000)\n",
    "    x2 = np.random.randn(1000000)\n",
    "    z, p = ztest(x1, x2)\n",
    "    \n",
    "    results[i] = (p < 0.05)\n",
    "    \n",
    "print(results.mean())"
   ]
  }
 ],
 "metadata": {
  "kernelspec": {
   "display_name": "Python 3 (ipykernel)",
   "language": "python",
   "name": "python3"
  },
  "language_info": {
   "codemirror_mode": {
    "name": "ipython",
    "version": 3
   },
   "file_extension": ".py",
   "mimetype": "text/x-python",
   "name": "python",
   "nbconvert_exporter": "python",
   "pygments_lexer": "ipython3",
   "version": "3.8.12"
  }
 },
 "nbformat": 4,
 "nbformat_minor": 5
}
