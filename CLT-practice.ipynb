{
 "cells": [
  {
   "cell_type": "code",
   "execution_count": 2,
   "id": "d14e86e5",
   "metadata": {},
   "outputs": [
    {
     "name": "stdout",
     "output_type": "stream",
     "text": [
      "for the sampling distribution mean is 95.7 asn stndard deviation is 124.7\n"
     ]
    }
   ],
   "source": [
    "import numpy as np\n",
    "mu = 95.70\n",
    "stdev = 1247/np.sqrt(100)\n",
    "print(f'for the sampling distribution mean is {mu} asn stndard deviation is {stdev}')"
   ]
  },
  {
   "cell_type": "code",
   "execution_count": 5,
   "id": "4b4f6642",
   "metadata": {},
   "outputs": [
    {
     "name": "stdout",
     "output_type": "stream",
     "text": [
      "-0.7674418604651163\n",
      "Probability of loss is: 22.36%\n"
     ]
    }
   ],
   "source": [
    "# A. probability of loss ---> profit = 0 or xcrit_loss = 0\n",
    "z = (0 - mu)/stdev\n",
    "print(z)\n",
    "print('Probability of loss is: 22.36%')"
   ]
  },
  {
   "cell_type": "code",
   "execution_count": 15,
   "id": "00c39b7c",
   "metadata": {},
   "outputs": [
    {
     "name": "stdout",
     "output_type": "stream",
     "text": [
      "0.8364073777064955\n",
      "Probability of gaining more than $20000 is 20.3%\n"
     ]
    }
   ],
   "source": [
    "# B. probability of making over $20000\n",
    "new_mean = 20000/100\n",
    "z = (new_mean - mu)/stdev\n",
    "print(z) # nearly zero \n",
    "print(f'Probability of gaining more than $20000 is 20.3%')"
   ]
  },
  {
   "cell_type": "code",
   "execution_count": 18,
   "id": "81239dd3",
   "metadata": {},
   "outputs": [
    {
     "name": "stdout",
     "output_type": "stream",
     "text": [
      "0.3727272727272727\n"
     ]
    }
   ],
   "source": [
    "stdev = 4.1/np.sqrt(121)\n",
    "print(stdev)"
   ]
  },
  {
   "cell_type": "code",
   "execution_count": 20,
   "id": "f4176505",
   "metadata": {},
   "outputs": [
    {
     "name": "stdout",
     "output_type": "stream",
     "text": [
      "192 0.8\n"
     ]
    }
   ],
   "source": [
    "mu = 192\n",
    "std = 8/np.sqrt(100)\n",
    "print(mu, std)"
   ]
  },
  {
   "cell_type": "code",
   "execution_count": 23,
   "id": "9b34ee38",
   "metadata": {},
   "outputs": [
    {
     "name": "stdout",
     "output_type": "stream",
     "text": [
      "1.999999999999993\n"
     ]
    }
   ],
   "source": [
    "z_score = (193.6 - 192)/0.8\n",
    "print(z_score)"
   ]
  }
 ],
 "metadata": {
  "kernelspec": {
   "display_name": "Python 3 (ipykernel)",
   "language": "python",
   "name": "python3"
  },
  "language_info": {
   "codemirror_mode": {
    "name": "ipython",
    "version": 3
   },
   "file_extension": ".py",
   "mimetype": "text/x-python",
   "name": "python",
   "nbconvert_exporter": "python",
   "pygments_lexer": "ipython3",
   "version": "3.8.12"
  }
 },
 "nbformat": 4,
 "nbformat_minor": 5
}
