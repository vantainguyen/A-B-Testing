{
  "nbformat": 4,
  "nbformat_minor": 0,
  "metadata": {
    "colab": {
      "name": "T and Z test.ipynb",
      "provenance": [],
      "collapsed_sections": [],
      "authorship_tag": "ABX9TyMFtFrF2J1jdVfsozR7Ak7Z",
      "include_colab_link": true
    },
    "kernelspec": {
      "name": "python3",
      "display_name": "Python 3"
    },
    "language_info": {
      "name": "python"
    }
  },
  "cells": [
    {
      "cell_type": "markdown",
      "metadata": {
        "id": "view-in-github",
        "colab_type": "text"
      },
      "source": [
        "<a href=\"https://colab.research.google.com/github/vantainguyen/A-B-Testing/blob/main/T_and_Z_test.ipynb\" target=\"_parent\"><img src=\"https://colab.research.google.com/assets/colab-badge.svg\" alt=\"Open In Colab\"/></a>"
      ]
    },
    {
      "cell_type": "markdown",
      "source": [
        "# Z - test"
      ],
      "metadata": {
        "id": "VVT1axD79CQT"
      }
    },
    {
      "cell_type": "code",
      "execution_count": null,
      "metadata": {
        "id": "IYyNucDp871h"
      },
      "outputs": [],
      "source": [
        "from statsmodels.stats.weightstats import ztest\n",
        "\"\"\"\n",
        "Z test returns z-score and p-value\n",
        "Inputs are two 1-d arrays\n",
        "\"\"\"\n",
        "ztest(x1, x2)"
      ]
    },
    {
      "cell_type": "markdown",
      "source": [
        "# T - test"
      ],
      "metadata": {
        "id": "7o6I23689WSq"
      }
    },
    {
      "cell_type": "code",
      "source": [
        "def t_two_sample(x1, x2): \n",
        " \n",
        " \"\"\"\n",
        " Returning T-statistic and p-value for the test with the numbers of x1 or x2 less than or equal to 30\n",
        " x1 and x2 are the numpy arrays\n",
        " \"\"\"\n",
        "\n",
        " N0 = x1.shape[0]\n",
        " N1 = x2.shape[0]\n",
        "\n",
        " mu0 = x1.mean()\n",
        " mu1 = x2.mean()\n",
        "\n",
        " sigma0 = x1.std(ddof=1)\n",
        " sigma1 = x1.std(ddof=1)\n",
        "\n",
        " df = (sigma0**2/N0 + sigma1**2/N1)**2/((sigma0**2/N0)**2/(N0-1) + (sigma1**2/N1)**2/(N1-1))\n",
        "\n",
        " t_score = (mu0 - mu1)/np.sqrt(sigma0**2/N0 + sigma1**2/N1)\n",
        "\n",
        " p_right = 1 - t.cdf(abs(t_score), df=df)\n",
        " p_left = t.cdf(-abs(t_score), df=df)\n",
        "\n",
        " p = p_right + p_left\n",
        "\n",
        " return t_score, p\n",
        "\n",
        "\n",
        "t_score, p = t_two_sample(x1, x2)\n",
        "\n",
        "t_score, p"
      ],
      "metadata": {
        "id": "hMsddn5H9ZHA"
      },
      "execution_count": null,
      "outputs": []
    },
    {
      "cell_type": "markdown",
      "source": [
        "# 1. Specify the significance level alpha = .05 as default\n",
        "# 2. H0 : two means are equal\n",
        "# 3. H1: two means are different\n",
        "\n",
        "# if computed p-value < alpha   ----> we reject the H0 ----> model is not converged yet\n",
        "# if computed p-value > alpha ----> we fail to reject the H0 -----> do the test for more data and if p-value > alpha -----> model is converged "
      ],
      "metadata": {
        "id": "GRzVL2fw9nFC"
      }
    }
  ]
}