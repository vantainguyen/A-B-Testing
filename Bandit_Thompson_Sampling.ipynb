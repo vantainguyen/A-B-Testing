{
  "nbformat": 4,
  "nbformat_minor": 0,
  "metadata": {
    "colab": {
      "name": "Bandit_Thompson_Sampling.ipynb",
      "provenance": [],
      "collapsed_sections": [],
      "authorship_tag": "ABX9TyNjxpjXu66zMZHxboaIUzUL",
      "include_colab_link": true
    },
    "kernelspec": {
      "name": "python3",
      "display_name": "Python 3"
    },
    "language_info": {
      "name": "python"
    }
  },
  "cells": [
    {
      "cell_type": "markdown",
      "metadata": {
        "id": "view-in-github",
        "colab_type": "text"
      },
      "source": [
        "<a href=\"https://colab.research.google.com/github/vantainguyen/A-B-Testing/blob/main/Bandit_Thompson_Sampling.ipynb\" target=\"_parent\"><img src=\"https://colab.research.google.com/assets/colab-badge.svg\" alt=\"Open In Colab\"/></a>"
      ]
    },
    {
      "cell_type": "code",
      "execution_count": 1,
      "metadata": {
        "id": "ykqz1yK4bYs9"
      },
      "outputs": [],
      "source": [
        "from __future__ import print_function, division\n",
        "from builtins import range"
      ]
    },
    {
      "cell_type": "code",
      "source": [
        "import numpy as np\n",
        "import matplotlib.pyplot as plt\n",
        "from scipy.stats import norm"
      ],
      "metadata": {
        "id": "Z84D4Xs3bicq"
      },
      "execution_count": 2,
      "outputs": []
    },
    {
      "cell_type": "code",
      "source": [
        "np.random.seed(1)\n",
        "NUM_TRIALS = 2000\n",
        "BANDIT_MEANS = [1, 2, 3]\n",
        "\n",
        "class Bandit:\n",
        "  def __init__(self, true_mean):\n",
        "    self.true_mean = true_mean\n",
        "    self.predicted_mean = 0\n",
        "    self.lambda_ =1\n",
        "    self.sum_x = 0\n",
        "    self.tau = 1\n",
        "    self.N = 0\n",
        "  def pull(self):\n",
        "    return np.random.randn()/np.sqrt(self.tau) + self.true_mean\n",
        "\n",
        "  def sample(self):\n",
        "    return np.random.randn()/np.sqrt(self.lambda_) + self.predicted_mean\n",
        "\n",
        "  def update(self, x):\n",
        "    self.lambda_ += self.tau\n",
        "    self.sum_x += x\n",
        "    self.predicted_mean = self.tau*self.sum_x/self.lambda_self.N += 1\n",
        "\n",
        "def plot(bandits, trial):\n",
        "  x = np.linspace(-3, 6, 200);\n",
        "  for b in bandits:\n",
        "    y = norm.pdf(x, b.predicted_mean, np.sqrt(1./b.lambda_))\n",
        "    plt.plot(x, y, label=f'real mean: {b.true_mean:.4f}, num plays: {b.N}')\n",
        "  plt.title(f'Bandit distributions after {trial} trials')\n",
        "  plt.legend()\n",
        "  plt.show()\n",
        "\n",
        "def run_experiment():\n",
        "  bandits = [Bandit(m) for m in BANDIT_MEANS]\n",
        "\n",
        "  sample_points = [5, 20, 100, 200, 1000, 2000]\n",
        "  rewards = np.empty(NUM_TRIALS)\n",
        "  for i in range(NUM_TRIALS):\n",
        "    # Thompson sampling\n",
        "    j = np.argmax([b.sample() for b in bandits])\n",
        "\n",
        "    for i in sample_points:\n",
        "      plot(bandits, i)\n",
        "\n",
        "\n",
        "if __name__ == \"__main__\":\n",
        "  run_experiment()"
      ],
      "metadata": {
        "id": "P99MOW4obrtO"
      },
      "execution_count": null,
      "outputs": []
    }
  ]
}