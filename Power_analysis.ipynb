{
  "nbformat": 4,
  "nbformat_minor": 0,
  "metadata": {
    "colab": {
      "name": "Power_analysis.ipynb",
      "provenance": [],
      "collapsed_sections": [],
      "toc_visible": true,
      "authorship_tag": "ABX9TyPM7yReD2sKkKT339cE1IrR",
      "include_colab_link": true
    },
    "kernelspec": {
      "name": "python3",
      "display_name": "Python 3"
    },
    "language_info": {
      "name": "python"
    }
  },
  "cells": [
    {
      "cell_type": "markdown",
      "metadata": {
        "id": "view-in-github",
        "colab_type": "text"
      },
      "source": [
        "<a href=\"https://colab.research.google.com/github/vantainguyen/A-B-Testing/blob/main/Power_analysis.ipynb\" target=\"_parent\"><img src=\"https://colab.research.google.com/assets/colab-badge.svg\" alt=\"Open In Colab\"/></a>"
      ]
    },
    {
      "cell_type": "markdown",
      "source": [
        "# Power analysis for T test"
      ],
      "metadata": {
        "id": "uAvcYXgbI1mt"
      }
    },
    {
      "cell_type": "markdown",
      "source": [
        "## Computing the sample sizes"
      ],
      "metadata": {
        "id": "AoDmIgBuJTmE"
      }
    },
    {
      "cell_type": "code",
      "execution_count": null,
      "metadata": {
        "colab": {
          "base_uri": "https://localhost:8080/"
        },
        "id": "hBjuk1ry5ne8",
        "outputId": "c0e16d23-fad4-4a71-aa7e-c9b42ce0b74d"
      },
      "outputs": [
        {
          "output_type": "stream",
          "name": "stdout",
          "text": [
            "Sample size required is: 18.446\n"
          ]
        }
      ],
      "source": [
        "# estimate sample size via power analysis\n",
        "from statsmodels.stats.power import TTestPower\n",
        "# parameter for power analysis\n",
        "effect = .8\n",
        "alpha = .05\n",
        "power = .9\n",
        "# perform power analysis\n",
        "analysis = TTestPower()\n",
        "result = analysis.solve_power(effect, power = power, nobs=None, alpha=alpha)\n",
        "print('Sample size required is: %.3f' % result)"
      ]
    },
    {
      "cell_type": "markdown",
      "source": [
        "## Analysing power for different cases"
      ],
      "metadata": {
        "id": "PCG7E_-IJG4M"
      }
    },
    {
      "cell_type": "code",
      "source": [
        "# Calculate power curve for varying sample and effect size\n",
        "from numpy import array\n",
        "from matplotlib import pyplot\n",
        "from statsmodels.stats.power import TTestPower\n",
        "\n",
        "analysis = TTestPower()\n",
        "\n",
        "# parameter for power analysis\n",
        "effect_sizes = array([.2, .5, .8])\n",
        "sample_sizes = array(range(5, 100))\n",
        "# Calculate power curves from multiple power analyses\n",
        "analysis.plot_power(dep_var='nobs', nobs=sample_sizes, effect_size=effect_sizes, alternative='larger') \n",
        "pyplot.grid()\n",
        "pyplot.show()\n"
      ],
      "metadata": {
        "colab": {
          "base_uri": "https://localhost:8080/",
          "height": 295
        },
        "id": "ix_dcBWg6AIS",
        "outputId": "98d01f70-17f6-4e30-8559-467cf2f79ddc"
      },
      "execution_count": null,
      "outputs": [
        {
          "output_type": "display_data",
          "data": {
            "text/plain": [
              "<Figure size 432x288 with 1 Axes>"
            ],
            "image/png": "[encoded data removed]"
          },
          "metadata": {
            "needs_background": "light"
          }
        }
      ]
    },
    {
      "cell_type": "markdown",
      "source": [
        "# Power analysis for Z test"
      ],
      "metadata": {
        "id": "7HvFoy5BI8uE"
      }
    },
    {
      "cell_type": "markdown",
      "source": [
        "## Computing sample sizes"
      ],
      "metadata": {
        "id": "UAWME3mSJYo0"
      }
    },
    {
      "cell_type": "code",
      "source": [
        "# estimate sample size via power analysis\n",
        "from statsmodels.stats.power import NormalIndPower\n",
        "# parameter for power analysis\n",
        "effect = .2\n",
        "alpha = .02\n",
        "power = .9\n",
        "# perform power analysis\n",
        "analysis = NormalIndPower()\n",
        "result = analysis.solve_power(effect, power = power, nobs1=None, alpha=alpha, ratio=0, alternative='larger') # ratio set to zero to indicate one sample normal test\n",
        "print('Sample size required is: %.3f' % result)"
      ],
      "metadata": {
        "id": "QLUSVb6UJAEj",
        "colab": {
          "base_uri": "https://localhost:8080/"
        },
        "outputId": "d7e47ca0-e3bb-43dd-8d67-871be870d80a"
      },
      "execution_count": null,
      "outputs": [
        {
          "output_type": "stream",
          "name": "stdout",
          "text": [
            "Sample size required is: 10.000\n"
          ]
        },
        {
          "output_type": "stream",
          "name": "stderr",
          "text": [
            "/usr/local/lib/python3.7/dist-packages/statsmodels/stats/power.py:93: RuntimeWarning: invalid value encountered in sqrt\n",
            "  pow_ += stats.norm.cdf(crit - d*np.sqrt(nobs)/sigma)\n",
            "/usr/local/lib/python3.7/dist-packages/statsmodels/stats/power.py:301: ConvergenceWarning: \n",
            "Failed to converge on a solution.\n",
            "\n",
            "  warnings.warn(convergence_doc, ConvergenceWarning)\n"
          ]
        }
      ]
    },
    {
      "cell_type": "markdown",
      "source": [
        "## Analysing power for different cases"
      ],
      "metadata": {
        "id": "GXPZhsySJbyt"
      }
    },
    {
      "cell_type": "code",
      "source": [
        "# Calculate power curve for varying sample and effect size\n",
        "from numpy import array\n",
        "from matplotlib import pyplot\n",
        "from statsmodels.stats.power import NormalIndPower\n",
        "\n",
        "analysis = NormalIndPower()\n",
        "\n",
        "# parameter for power analysis\n",
        "effect_sizes = -array([.2, .5, .8])\n",
        "sample_sizes = array(range(5, 100))\n",
        "# Calculate power curves from multiple power analyses\n",
        "analysis.plot_power(dep_var='nobs', nobs=sample_sizes, effect_size=effect_sizes, ratio=0, alternative='larger') \n",
        "pyplot.grid()\n",
        "pyplot.show()\n"
      ],
      "metadata": {
        "id": "iuvzrazlJFBE",
        "colab": {
          "base_uri": "https://localhost:8080/",
          "height": 295
        },
        "outputId": "a9eaa3fa-1470-4fae-c0bb-d753cbc61a44"
      },
      "execution_count": null,
      "outputs": [
        {
          "output_type": "display_data",
          "data": {
            "text/plain": [
              "<Figure size 432x288 with 1 Axes>"
            ],
            "image/png": "[encoded data removed]"
          },
          "metadata": {
            "needs_background": "light"
          }
        }
      ]
    },
    {
      "cell_type": "markdown",
      "source": [
        "# One sample T - Test"
      ],
      "metadata": {
        "id": "44ia2OPP9fix"
      }
    },
    {
      "cell_type": "code",
      "source": [
        "# Given the thresold condition for the average of the R-squared metrics for the predicted results: mu0\n",
        "# This test aims to show whether there is a sufficient evidence that the average of the R-squared (mu) of the predictions greater than mu0\n",
        "# In order to perform this test, N iid samples (N <= 30) are taken from the prediction population\n",
        "# Null hypothesis H0: mu <= mu0\n",
        "# Alternative hypothesis Ha: mu > mu0  ----> right tailed test"
      ],
      "metadata": {
        "id": "Z86fpldE9i6G"
      },
      "execution_count": null,
      "outputs": []
    },
    {
      "cell_type": "markdown",
      "source": [
        "## Self-determined procedure"
      ],
      "metadata": {
        "id": "rwmT3oCkbrRe"
      }
    },
    {
      "cell_type": "code",
      "source": [
        "import numpy as np\n",
        "from scipy.stats import t\n",
        "\n",
        "N = 30\n",
        "pred = [(np.random.randn()*0.1 + 0.85) for i in np.arange(N)]\n",
        "mu0 = 0.8\n",
        "\n",
        "std = np.std(pred, ddof=1)\n",
        "mu = np.mean(pred)\n",
        "\n",
        "t_stat = (mu - mu0)/(std/np.sqrt(N))\n",
        "\n",
        "\n",
        "p_value = t.sf(t_stat, df=N-1)\n",
        "\n",
        "t_stat, p_value, N - 1\n",
        "\n",
        "print('tstat p_value:', t_stat, p_value)\n",
        "\n",
        "if p_value < 0.05:\n",
        "  print('Reject null hypothesis (p_value = %.3f); there is sufficient evidence to conclude that mean R-squared of the predicted results > %.3f' %(p_value, mu0))\n",
        "else:\n",
        "  print('Fail to reject null hypothesis')\n",
        "\n"
      ],
      "metadata": {
        "id": "2L095rPn-_gd",
        "colab": {
          "base_uri": "https://localhost:8080/"
        },
        "outputId": "9f832d06-d3d5-4727-afe3-be7fe360b641"
      },
      "execution_count": 21,
      "outputs": [
        {
          "output_type": "stream",
          "name": "stdout",
          "text": [
            "tstat p_value: 2.0950950560464094 0.022504127491529843\n",
            "Reject null hypothesis (p_value = 0.023); there is sufficient evidence to conclude that mean R-squared of the predicted results > 0.800\n"
          ]
        }
      ]
    },
    {
      "cell_type": "markdown",
      "source": [
        "## Using API"
      ],
      "metadata": {
        "id": "PdLvPBjJbwbD"
      }
    },
    {
      "cell_type": "code",
      "source": [
        "from statsmodels.stats.weightstats import DescrStatsW\n",
        "\n",
        "Des_test = DescrStatsW(pred)\n",
        "\n",
        "t_stat, p_value, df = Des_test.ttest_mean(mu0, alternative='larger')\n",
        "\n",
        "t_stat, p_value, df\n",
        "\n",
        "print('tstat p_value:', t_stat, p_value)\n",
        "\n",
        "if p_value < 0.05:\n",
        "  print('Reject null hypothesis (p_value = %.3f); there is sufficient evidence to conclude that mean R-squared of the predicted results > %.3f' %(p_value, mu0))\n",
        "else:\n",
        "  print('Fail to reject null hypothesis')\n"
      ],
      "metadata": {
        "colab": {
          "base_uri": "https://localhost:8080/"
        },
        "id": "yxkpotMMV1oa",
        "outputId": "c9504801-f806-47e6-b117-1f3a68cd67a9"
      },
      "execution_count": 22,
      "outputs": [
        {
          "output_type": "stream",
          "name": "stdout",
          "text": [
            "tstat p_value: 2.0950950560464094 0.022504127491529843\n",
            "Reject null hypothesis (p_value = 0.023); there is sufficient evidence to conclude that mean R-squared of the predicted results > 0.800\n"
          ]
        }
      ]
    },
    {
      "cell_type": "markdown",
      "source": [
        "# One sample Z - Test"
      ],
      "metadata": {
        "id": "4-Kex8pvZi4Z"
      }
    },
    {
      "cell_type": "code",
      "source": [
        "# Given the thresold condition for the average of the R-squared metrics for the predicted results: mu0\n",
        "# This test aims to show whether there is a sufficient evidence that the average of the R-squared (mu) of the predictions greater than mu0\n",
        "# In order to perform this test, N iid samples (N > 30) are taken from the prediction population\n",
        "# Null hypothesis H0: mu <= mu0\n",
        "# Alternative hypothesis Ha: mu > mu0  ----> right tailed test"
      ],
      "metadata": {
        "id": "UGau5wr8AO5P"
      },
      "execution_count": 9,
      "outputs": []
    },
    {
      "cell_type": "markdown",
      "source": [
        "## Self-determined procedure"
      ],
      "metadata": {
        "id": "ufAmfBFrby6u"
      }
    },
    {
      "cell_type": "code",
      "source": [
        "import numpy as np\n",
        "from scipy.stats import norm\n",
        "\n",
        "N = 60\n",
        "pred = [(np.random.randn()*0.1 + 0.85) for i in np.arange(N)]\n",
        "mu0 = 0.8\n",
        "\n",
        "std = np.std(pred, ddof=1)\n",
        "mu = np.mean(pred)\n",
        "\n",
        "z_stat = (mu - mu0)/(std/np.sqrt(N))\n",
        "\n",
        "\n",
        "p_value = norm.sf(z_stat)\n",
        "\n",
        "z_stat, p_value\n",
        "\n",
        "print('zstat p_value:', z_stat, p_value)\n",
        "\n",
        "if p_value < 0.05:\n",
        "  print('Reject null hypothesis (p_value = %.3f); there is sufficient evidence to conclude that mean R-squared of the predicted results > %.3f' %(p_value, mu0))\n",
        "else:\n",
        "  print('Fail to reject null hypothesis')"
      ],
      "metadata": {
        "colab": {
          "base_uri": "https://localhost:8080/"
        },
        "id": "O9j6vi3SaTnF",
        "outputId": "9e1a3d84-28f2-447b-865d-f4be1b4fb200"
      },
      "execution_count": 35,
      "outputs": [
        {
          "output_type": "stream",
          "name": "stdout",
          "text": [
            "zstat p_value: 1.5310218729517668 0.06288199345304032\n",
            "Fail to reject null hypothesis\n"
          ]
        }
      ]
    },
    {
      "cell_type": "markdown",
      "source": [
        "## Using API"
      ],
      "metadata": {
        "id": "VJ1VwSl5b2-B"
      }
    },
    {
      "cell_type": "code",
      "source": [
        "from statsmodels.stats.weightstats import DescrStatsW\n",
        "\n",
        "Des_test = DescrStatsW(pred)\n",
        "\n",
        "z_stat, p_value = Des_test.ztest_mean(mu0, alternative='larger')\n",
        "\n",
        "print('zstat p_value:', z_stat, p_value)\n",
        "\n",
        "if p_value < 0.05:\n",
        "  print('Reject null hypothesis (p_value = %.3f); there is sufficient evidence to conclude that mean R-squared of the predicted results > %.3f' %(p_value, mu0))\n",
        "else:\n",
        "  print('Fail to reject null hypothesis')"
      ],
      "metadata": {
        "colab": {
          "base_uri": "https://localhost:8080/"
        },
        "id": "o-gBhACsbkf5",
        "outputId": "b37bcf6b-270b-4849-98ee-edfc9c7257ef"
      },
      "execution_count": 36,
      "outputs": [
        {
          "output_type": "stream",
          "name": "stdout",
          "text": [
            "zstat p_value: 1.5310218729517755 0.06288199345303923\n",
            "Fail to reject null hypothesis\n"
          ]
        }
      ]
    },
    {
      "cell_type": "code",
      "source": [
        "z_stat, p_value"
      ],
      "metadata": {
        "colab": {
          "base_uri": "https://localhost:8080/"
        },
        "id": "S_plATEmcivB",
        "outputId": "84a8ebd7-221f-4e2d-db1b-c43a7d46e0d1"
      },
      "execution_count": 14,
      "outputs": [
        {
          "output_type": "execute_result",
          "data": {
            "text/plain": [
              "(3.8476408900685715, 5.9630347120709194e-05)"
            ]
          },
          "metadata": {},
          "execution_count": 14
        }
      ]
    }
  ]
}