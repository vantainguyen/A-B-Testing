{
  "nbformat": 4,
  "nbformat_minor": 0,
  "metadata": {
    "colab": {
      "name": "V_Net.ipynb",
      "provenance": [],
      "collapsed_sections": [],
      "authorship_tag": "ABX9TyMPsSzfaNujTK0grZUzTyj7",
      "include_colab_link": true
    },
    "kernelspec": {
      "name": "python3",
      "display_name": "Python 3"
    },
    "language_info": {
      "name": "python"
    }
  },
  "cells": [
    {
      "cell_type": "markdown",
      "metadata": {
        "id": "view-in-github",
        "colab_type": "text"
      },
      "source": [
        "<a href=\"https://colab.research.google.com/github/vantainguyen/A-B-Testing/blob/main/V_Net.ipynb\" target=\"_parent\"><img src=\"https://colab.research.google.com/assets/colab-badge.svg\" alt=\"Open In Colab\"/></a>"
      ]
    },
    {
      "cell_type": "code",
      "execution_count": null,
      "metadata": {
        "id": "CHz23Zl2CHSa",
        "colab": {
          "base_uri": "https://localhost:8080/",
          "height": 241
        },
        "outputId": "062e63ce-53d2-4384-de53-4fffe4922950"
      },
      "outputs": [
        {
          "output_type": "error",
          "ename": "NameError",
          "evalue": "ignored",
          "traceback": [
            "\u001b[0;31m---------------------------------------------------------------------------\u001b[0m",
            "\u001b[0;31mNameError\u001b[0m                                 Traceback (most recent call last)",
            "\u001b[0;32m<ipython-input-1-e7efe403cb05>\u001b[0m in \u001b[0;36m<module>\u001b[0;34m()\u001b[0m\n\u001b[1;32m      3\u001b[0m \u001b[0mlearning_rate2\u001b[0m\u001b[0;34m=\u001b[0m\u001b[0;36m0.01\u001b[0m\u001b[0;34m\u001b[0m\u001b[0;34m\u001b[0m\u001b[0m\n\u001b[1;32m      4\u001b[0m \u001b[0;34m\u001b[0m\u001b[0m\n\u001b[0;32m----> 5\u001b[0;31m \u001b[0moptimizer1\u001b[0m \u001b[0;34m=\u001b[0m \u001b[0mtf\u001b[0m\u001b[0;34m.\u001b[0m\u001b[0mkeras\u001b[0m\u001b[0;34m.\u001b[0m\u001b[0moptimizers\u001b[0m\u001b[0;34m.\u001b[0m\u001b[0mAdam\u001b[0m\u001b[0;34m(\u001b[0m\u001b[0mlearning_rate\u001b[0m\u001b[0;34m=\u001b[0m\u001b[0mlearning_rate1\u001b[0m\u001b[0;34m)\u001b[0m\u001b[0;34m\u001b[0m\u001b[0;34m\u001b[0m\u001b[0m\n\u001b[0m\u001b[1;32m      6\u001b[0m \u001b[0moptimizer2\u001b[0m \u001b[0;34m=\u001b[0m \u001b[0mtf\u001b[0m\u001b[0;34m.\u001b[0m\u001b[0mkeras\u001b[0m\u001b[0;34m.\u001b[0m\u001b[0moptimizers\u001b[0m\u001b[0;34m.\u001b[0m\u001b[0mAdam\u001b[0m\u001b[0;34m(\u001b[0m\u001b[0mlearning_rate\u001b[0m\u001b[0;34m=\u001b[0m\u001b[0mlearning_rate2\u001b[0m\u001b[0;34m)\u001b[0m\u001b[0;34m\u001b[0m\u001b[0;34m\u001b[0m\u001b[0m\n\u001b[1;32m      7\u001b[0m \u001b[0;34m\u001b[0m\u001b[0m\n",
            "\u001b[0;31mNameError\u001b[0m: name 'tf' is not defined"
          ]
        }
      ],
      "source": [
        "import tensorflow as tf\n",
        "# Parameters for the two model we want to build\n",
        "OUTPUT_CHANNELS = 3\n",
        "\n",
        "learning_rate1=0.001\n",
        "learning_rate2=0.01\n",
        "\n",
        "optimizer1 = tf.keras.optimizers.Adam(learning_rate=learning_rate1)\n",
        "optimizer2 = tf.keras.optimizers.Adam(learning_rate=learning_rate2)\n",
        "\n",
        "batch_size1 = 8\n",
        "batch_size2 = 8\n",
        "\n",
        "kernel_size1 = 3\n",
        "kernel_size2 = 3\n",
        "\n",
        "filter_base1 = 16\n",
        "filter_base2 = 32\n",
        "\n",
        "#loss1 = 'mean_squared_error'\n",
        "#loss2 = 'mean_squared_error'\n",
        "\n",
        "self_defined_loss = False # To get the root mean square error\n",
        "\n",
        "if self_defined_loss:\n",
        "\n",
        "  def loss_func(y_true, y_pred): \n",
        "      \n",
        "      # Root mean square loss\n",
        "      squared_difference = tf.square(y_true - y_pred)\n",
        "      mean_square_loss = tf.reduce_mean(squared_difference, axis=-1)\n",
        "      root_mean_square_loss = tf.sqrt(mean_square_loss + 1e-20)\n",
        "      \n",
        "      return root_mean_square_loss\n",
        "\n",
        "else:\n",
        "\n",
        "  loss_func = 'mean_squared_error'\n",
        "\n",
        "\n",
        "\n",
        "epochs_train = 300\n",
        "\n",
        "save_period = epochs_train\n",
        "\n",
        "initializer = tf.random_normal_initializer(0., 0.02)\n",
        "\n",
        "class V_Net(tf.keras.Model):\n",
        "\n",
        "  self.convD1 = tf.keras.layers.Conv3D(filter_base2, kernel_size=kernel_size1, strides=(2,2,2), padding='same', \n",
        "                                      kernel_initializer=initializer, use_bias=False)\n",
        "  self.convD2 = tf.keras.layers.Conv3D(filter_base2*2, kernel_size=kernel_size1, strides=(2,2,2), padding='same', \n",
        "                                      kernel_initializer=initializer, use_bias=False)\n",
        "  self.convD3 = tf.keras.layers.Conv3D(filter_base2*4, kernel_size=kernel_size1, strides=(2,2,2), padding='same', \n",
        "                                      kernel_initializer=initializer, use_bias=False)\n",
        "  self.convD4 = tf.keras.layers.Conv3D(filter_base2*8, kernel_size=kernel_size1, strides=(2,2,2), padding='same', \n",
        "                                      kernel_initializer=initializer, use_bias=False)\n",
        "  self.convD5 = tf.keras.layers.Conv3D(filter_base2*16, kernel_size=kernel_size1, strides=(2,2,2), padding='same', \n",
        "                                      kernel_initializer=initializer, use_bias=False)\n",
        "  self.convD6 = tf.keras.layers.Conv3D(filter_base2*32, kernel_size=kernel_size1, strides=(2,2,2), padding='same', \n",
        "                                      kernel_initializer=initializer, use_bias=False)\n",
        "  \n",
        "  self.conv_batch_norm = tf.keras.layers.BatchNormalization()\n",
        "  self.conv_activation = tf.keras.layers.LeakyReLU()\n",
        "\n",
        "\n",
        "  self.convU1 = tf.keras.layers.Conv3DTranspose(filter_base2*32, kernel_size=kernel_size1, strides=2, padding='same', \n",
        "                                      kernel_initializer=initializer, use_bias=False)\n",
        "  self.convU2 = tf.keras.layers.Conv3DTranspose(filter_base2*16, kernel_size=kernel_size1, strides=2, padding='same', \n",
        "                                      kernel_initializer=initializer, use_bias=False)\n",
        "  self.convU3 = tf.keras.layers.Conv3DTranspose(filter_base2*8, kernel_size=kernel_size1, strides=2, padding='same', \n",
        "                                      kernel_initializer=initializer, use_bias=False)\n",
        "  self.convU4 = tf.keras.layers.Conv3DTranspose(filter_base2*4, kernel_size=kernel_size1, strides=2, padding='same', \n",
        "                                      kernel_initializer=initializer, use_bias=False)\n",
        "  self.convU5 = tf.keras.layers.Conv3DTranspose(filter_base2*2, kernel_size=kernel_size1, strides=2, padding='same', \n",
        "                                      kernel_initializer=initializer, use_bias=False)\n",
        "  \n",
        "  self.concat = tf.keras.layers.Concatenate()\n",
        "\n",
        "  self.last = tf.keras.layers.Conv3DTranspose(OUTPUT_CHANNELS, kernel_size=kernel_size1, strides=2, padding='same', \n",
        "                                      kernel_initializer=initializer, use_bias=False)\n",
        "  \n",
        "  # self.convU1_batch_norm = tf.keras.layers.BatchNormalization()\n",
        "  # self.convU1_activation = tf.keras.layers.LeakyReLU()\n",
        "\n",
        "\n",
        "  def call(self, inputs):\n",
        "\n",
        "    x1 = self.convD1(inputs)\n",
        "    x1 = self.conv_batch_norm(x1)\n",
        "    x1 = self.conv_activation(x1)\n",
        "\n",
        "    x2 = self.convD2(x1)\n",
        "    x2 = self.conv_batch_norm(x2)\n",
        "    x2 = self.conv_activation(x2)\n",
        "\n",
        "    x3 = self.convD3(x2)\n",
        "    x3 = self.conv_batch_norm(x3)\n",
        "    x3 = self.conv_activation(x3)\n",
        "\n",
        "    x4 = self.convD4(x3)\n",
        "    x4 = self.conv_batch_norm(x4)\n",
        "    x4 = self.conv_activation(x4)\n",
        "\n",
        "    x5 = self.convD5(x4)\n",
        "    x5 = self.conv_batch_norm(x5)\n",
        "    x5 = self.conv_activation(x5)\n",
        "\n",
        "    x6 = self.convD6(x5)\n",
        "    x6 = self.conv_batch_norm(x6)\n",
        "    x6 = self.conv_activation(x6)\n",
        "\n",
        "    x7 = self.convU1(x6)\n",
        "    x7 = self.conv_batch_norm(x7)\n",
        "    x7 = self.conv_batch_norm(x7)\n",
        "\n",
        "    \n",
        "    x8 = self.concat([x7, x6])\n",
        "\n"
      ]
    },
    {
      "cell_type": "code",
      "source": [
        "from tensorflow.python.ops import array_ops\n",
        "import tensorflow as tf\n",
        "\n",
        "def image3D_gradients(image):\n",
        "\n",
        "    \"\"\"Returns image gradients (dy, dx, dz) for each color channel.\n",
        "    Both output tensors have the same shape as the input: [batch_size, h, w, d\n",
        "    c]. The gradient values are organized so that [I(x+1, y, z) - I(x, y, z)] is in\n",
        "    location (x, y, z). That means that dz will always have zeros in the last depth, dy will always have zeros in the last row,\n",
        "    and dx will always have zeros in the last column.\n",
        "    Usage Example:\n",
        "      ```python\n",
        "      BATCH_SIZE = 1\n",
        "      IMAGE_HEIGHT = 5\n",
        "      IMAGE_WIDTH = 5\n",
        "      IMAGE_DEPTH = 5\n",
        "      CHANNELS = 1\n",
        "      image = tf.reshape(tf.range(IMAGE_HEIGHT * IMAGE_WIDTH * IMAGE_DEPTH * CHANNELS,\n",
        "        delta=1, dtype=tf.float32),\n",
        "        shape=(BATCH_SIZE, IMAGE_HEIGHT, IMAGE_WIDTH, IMAGE_DEPTH, CHANNELS))\n",
        "      dy, dx, dz = image3D_gradients(image)\n",
        "      ```\n",
        "    Args:\n",
        "      image: Tensor with shape [batch_size, h, w, d, c].\n",
        "    Returns:\n",
        "      Pair of tensors (dy, dx, dz) holding the vertical, horizontal and depth image\n",
        "      gradients (1-step finite difference).\n",
        "    Raises:\n",
        "      ValueError: If `image` is not a 5D tensor.\n",
        "    \"\"\"\n",
        "    if image.get_shape().ndims != 5:\n",
        "      raise ValueError('image3D_gradients expects a 5D tensor '\n",
        "                      '[batch_size, h, w, d, c], not {}.'.format(image.get_shape()))\n",
        "      \n",
        "    image_shape = array_ops.shape(image)\n",
        "    batch_size, height, width, depth, classes = array_ops.unstack(image_shape)\n",
        "\n",
        "    dy = image[:, 1:, :, :, :] - image[:, :-1, :, :, :]\n",
        "    dx = image[:, :, 1:, :, :] - image[:, :, :-1, :, :]\n",
        "    dz = image[:, :, :, 1:, :] - image[:, :, :, :-1, :]\n",
        "\n",
        "    # Return tensors with same size as original image by concatenating\n",
        "    # zeros. Place the gradient [I(x+1,y, z) - I(x,y, z)] on the base pixel (x, y, z).\n",
        "    shape = array_ops.stack([batch_size, 1, width, depth, classes])\n",
        "    dy = array_ops.concat([dy, array_ops.zeros(shape, image.dtype)], 1)\n",
        "    dy = array_ops.reshape(dy, image_shape)\n",
        "\n",
        "    shape = array_ops.stack([batch_size, height, 1, depth, classes])\n",
        "    dx = array_ops.concat([dx, array_ops.zeros(shape, image.dtype)], 2)\n",
        "    dx = array_ops.reshape(dx, image_shape)\n",
        "\n",
        "    shape = array_ops.stack([batch_size, height, width, 1, classes])\n",
        "    dz = array_ops.concat([dz, array_ops.zeros(shape, image.dtype)], 3)\n",
        "    dz = array_ops.reshape(dz, image_shape)\n",
        "\n",
        "    return dy, dx, dz"
      ],
      "metadata": {
        "id": "Kql6ULmOd3q_"
      },
      "execution_count": 1,
      "outputs": []
    },
    {
      "cell_type": "code",
      "source": [
        "image.get_shape().ndims"
      ],
      "metadata": {
        "colab": {
          "base_uri": "https://localhost:8080/"
        },
        "id": "dFXMDli6iCOm",
        "outputId": "6775407b-f09c-4e86-fdcc-c51233772b27"
      },
      "execution_count": 12,
      "outputs": [
        {
          "output_type": "execute_result",
          "data": {
            "text/plain": [
              "5"
            ]
          },
          "metadata": {},
          "execution_count": 12
        }
      ]
    },
    {
      "cell_type": "code",
      "source": [
        "BATCH_SIZE = 1\n",
        "IMAGE_HEIGHT = 5\n",
        "IMAGE_WIDTH = 5\n",
        "IMAGE_DEPTH = 5\n",
        "CHANNELS = 1\n",
        "image = tf.reshape(tf.range(IMAGE_HEIGHT * IMAGE_WIDTH * IMAGE_DEPTH * CHANNELS,\n",
        "  delta=1, dtype=tf.float32),\n",
        "  shape=(BATCH_SIZE, IMAGE_HEIGHT, IMAGE_WIDTH, IMAGE_DEPTH, CHANNELS))\n",
        "dy, dx, dz = image3D_gradients(image)\n",
        "print(image[0, :,:,0])"
      ],
      "metadata": {
        "colab": {
          "base_uri": "https://localhost:8080/"
        },
        "id": "rwH-m2OehFGP",
        "outputId": "5ebea012-32b5-41cc-f83f-6beb98239a8e"
      },
      "execution_count": 3,
      "outputs": [
        {
          "output_type": "stream",
          "name": "stdout",
          "text": [
            "tf.Tensor(\n",
            "[[[  0.]\n",
            "  [  5.]\n",
            "  [ 10.]\n",
            "  [ 15.]\n",
            "  [ 20.]]\n",
            "\n",
            " [[ 25.]\n",
            "  [ 30.]\n",
            "  [ 35.]\n",
            "  [ 40.]\n",
            "  [ 45.]]\n",
            "\n",
            " [[ 50.]\n",
            "  [ 55.]\n",
            "  [ 60.]\n",
            "  [ 65.]\n",
            "  [ 70.]]\n",
            "\n",
            " [[ 75.]\n",
            "  [ 80.]\n",
            "  [ 85.]\n",
            "  [ 90.]\n",
            "  [ 95.]]\n",
            "\n",
            " [[100.]\n",
            "  [105.]\n",
            "  [110.]\n",
            "  [115.]\n",
            "  [120.]]], shape=(5, 5, 1), dtype=float32)\n"
          ]
        }
      ]
    },
    {
      "cell_type": "code",
      "source": [
        "print(dz[0, :,:,0])"
      ],
      "metadata": {
        "colab": {
          "base_uri": "https://localhost:8080/"
        },
        "id": "AXfQEhSJhq5_",
        "outputId": "46f0238d-b60e-4e98-c819-1aafa746dd79"
      },
      "execution_count": 6,
      "outputs": [
        {
          "output_type": "stream",
          "name": "stdout",
          "text": [
            "tf.Tensor(\n",
            "[[[1.]\n",
            "  [1.]\n",
            "  [1.]\n",
            "  [1.]\n",
            "  [1.]]\n",
            "\n",
            " [[1.]\n",
            "  [1.]\n",
            "  [1.]\n",
            "  [1.]\n",
            "  [1.]]\n",
            "\n",
            " [[1.]\n",
            "  [1.]\n",
            "  [1.]\n",
            "  [1.]\n",
            "  [1.]]\n",
            "\n",
            " [[1.]\n",
            "  [1.]\n",
            "  [1.]\n",
            "  [1.]\n",
            "  [1.]]\n",
            "\n",
            " [[1.]\n",
            "  [1.]\n",
            "  [1.]\n",
            "  [1.]\n",
            "  [1.]]], shape=(5, 5, 1), dtype=float32)\n"
          ]
        }
      ]
    }
  ]
}