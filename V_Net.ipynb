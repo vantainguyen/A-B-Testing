{
  "nbformat": 4,
  "nbformat_minor": 0,
  "metadata": {
    "colab": {
      "name": "V_Net.ipynb",
      "provenance": [],
      "collapsed_sections": [],
      "authorship_tag": "ABX9TyOpwRnbjv3FMT98jpJ63jcK",
      "include_colab_link": true
    },
    "kernelspec": {
      "name": "python3",
      "display_name": "Python 3"
    },
    "language_info": {
      "name": "python"
    }
  },
  "cells": [
    {
      "cell_type": "markdown",
      "metadata": {
        "id": "view-in-github",
        "colab_type": "text"
      },
      "source": [
        "<a href=\"https://colab.research.google.com/github/vantainguyen/A-B-Testing/blob/main/V_Net.ipynb\" target=\"_parent\"><img src=\"https://colab.research.google.com/assets/colab-badge.svg\" alt=\"Open In Colab\"/></a>"
      ]
    },
    {
      "cell_type": "code",
      "source": [
        "def image3D_gradients(image):\n",
        "\n",
        "    \"\"\"Returns image gradients (dy, dx, dz) for each color channel.\n",
        "    Both output tensors have the same shape as the input: [batch_size, h, w, d\n",
        "    c]. The gradient values are organized so that [I(x+1, y, z) - I(x, y, z)] is in\n",
        "    location (x, y, z). That means that dz will always have zeros in the last depth, dy will always have zeros in the last row,\n",
        "    and dx will always have zeros in the last column.\n",
        "    Usage Example:\n",
        "      ```python\n",
        "      BATCH_SIZE = 1\n",
        "      IMAGE_HEIGHT = 5\n",
        "      IMAGE_WIDTH = 5\n",
        "      IMAGE_DEPTH = 5\n",
        "      CHANNELS = 1\n",
        "      image = tf.reshape(tf.range(IMAGE_HEIGHT * IMAGE_WIDTH * IMAGE_DEPTH * CHANNELS,\n",
        "        delta=1, dtype=tf.float32),\n",
        "        shape=(BATCH_SIZE, IMAGE_HEIGHT, IMAGE_WIDTH, IMAGE_DEPTH, CHANNELS))\n",
        "      dy, dx, dz = image3D_gradients(image)\n",
        "      ```\n",
        "    Args:\n",
        "      image: Tensor with shape [batch_size, h, w, d, c].\n",
        "    Returns:\n",
        "      Pair of tensors (dy, dx, dz) holding the vertical, horizontal and depth image\n",
        "      gradients (1-step finite difference).\n",
        "    Raises:\n",
        "      ValueError: If `image` is not a 5D tensor.\n",
        "    \"\"\"\n",
        "    if image.get_shape().ndims != 5:\n",
        "      raise ValueError('image3D_gradients expects a 5D tensor '\n",
        "                      '[batch_size, h, w, d, c], not {}.'.format(image.get_shape()))\n",
        "      \n",
        "    image_shape = array_ops.shape(image)\n",
        "    batch_size, height, width, depth, classes = array_ops.unstack(image_shape)\n",
        "\n",
        "    dy = image[:, 1:, :, :, :] - image[:, :-1, :, :, :]\n",
        "    dx = image[:, :, 1:, :, :] - image[:, :, :-1, :, :]\n",
        "    dz = image[:, :, :, 1:, :] - image[:, :, :, :-1, :]\n",
        "\n",
        "    # Return tensors with same size as original image by concatenating\n",
        "    # zeros. Place the gradient [I(x+1,y, z) - I(x,y, z)] on the base pixel (x, y, z).\n",
        "    shape = array_ops.stack([batch_size, 1, width, depth, classes])\n",
        "    dy = array_ops.concat([dy, array_ops.zeros(shape, image.dtype)], 1)\n",
        "    dy = array_ops.reshape(dy, image_shape)\n",
        "\n",
        "    shape = array_ops.stack([batch_size, height, 1, depth, classes])\n",
        "    dx = array_ops.concat([dx, array_ops.zeros(shape, image.dtype)], 2)\n",
        "    dx = array_ops.reshape(dx, image_shape)\n",
        "\n",
        "    shape = array_ops.stack([batch_size, height, width, 1, classes])\n",
        "    dz = array_ops.concat([dz, array_ops.zeros(shape, image.dtype)], 3)\n",
        "    dz = array_ops.reshape(dz, image_shape)\n",
        "\n",
        "    return dy, dx, dz "
      ],
      "metadata": {
        "id": "QXpK4s-mINRC"
      },
      "execution_count": 15,
      "outputs": []
    },
    {
      "cell_type": "code",
      "execution_count": 16,
      "metadata": {
        "id": "CHz23Zl2CHSa",
        "colab": {
          "base_uri": "https://localhost:8080/",
          "height": 367
        },
        "outputId": "961a5143-4e93-40a9-d5bd-b15f6bd69202"
      },
      "outputs": [
        {
          "output_type": "error",
          "ename": "NameError",
          "evalue": "ignored",
          "traceback": [
            "\u001b[0;31m---------------------------------------------------------------------------\u001b[0m",
            "\u001b[0;31mNameError\u001b[0m                                 Traceback (most recent call last)",
            "\u001b[0;32m<ipython-input-16-72bb25a714c3>\u001b[0m in \u001b[0;36m<module>\u001b[0;34m()\u001b[0m\n\u001b[1;32m     46\u001b[0m \u001b[0minitializer\u001b[0m \u001b[0;34m=\u001b[0m \u001b[0mtf\u001b[0m\u001b[0;34m.\u001b[0m\u001b[0mrandom_normal_initializer\u001b[0m\u001b[0;34m(\u001b[0m\u001b[0;36m0.\u001b[0m\u001b[0;34m,\u001b[0m \u001b[0;36m0.02\u001b[0m\u001b[0;34m)\u001b[0m\u001b[0;34m\u001b[0m\u001b[0;34m\u001b[0m\u001b[0m\n\u001b[1;32m     47\u001b[0m \u001b[0;34m\u001b[0m\u001b[0m\n\u001b[0;32m---> 48\u001b[0;31m \u001b[0;32mclass\u001b[0m \u001b[0mV_Net\u001b[0m\u001b[0;34m(\u001b[0m\u001b[0mtf\u001b[0m\u001b[0;34m.\u001b[0m\u001b[0mkeras\u001b[0m\u001b[0;34m.\u001b[0m\u001b[0mModel\u001b[0m\u001b[0;34m)\u001b[0m\u001b[0;34m:\u001b[0m\u001b[0;34m\u001b[0m\u001b[0;34m\u001b[0m\u001b[0m\n\u001b[0m\u001b[1;32m     49\u001b[0m \u001b[0;34m\u001b[0m\u001b[0m\n\u001b[1;32m     50\u001b[0m   self.convD1 = tf.keras.layers.Conv3D(filter_base2, kernel_size=kernel_size1, strides=(2,2,2), padding='same', \n",
            "\u001b[0;32m<ipython-input-16-72bb25a714c3>\u001b[0m in \u001b[0;36mV_Net\u001b[0;34m()\u001b[0m\n\u001b[1;32m     49\u001b[0m \u001b[0;34m\u001b[0m\u001b[0m\n\u001b[1;32m     50\u001b[0m   self.convD1 = tf.keras.layers.Conv3D(filter_base2, kernel_size=kernel_size1, strides=(2,2,2), padding='same', \n\u001b[0;32m---> 51\u001b[0;31m                                       kernel_initializer=initializer, use_bias=False)\n\u001b[0m\u001b[1;32m     52\u001b[0m   self.convD2 = tf.keras.layers.Conv3D(filter_base2*2, kernel_size=kernel_size1, strides=(2,2,2), padding='same', \n\u001b[1;32m     53\u001b[0m                                       kernel_initializer=initializer, use_bias=False)\n",
            "\u001b[0;31mNameError\u001b[0m: name 'self' is not defined"
          ]
        }
      ],
      "source": [
        "import tensorflow as tf\n",
        "# Parameters for the two model we want to build\n",
        "OUTPUT_CHANNELS = 3\n",
        "\n",
        "learning_rate1=0.001\n",
        "learning_rate2=0.01\n",
        "\n",
        "optimizer1 = tf.keras.optimizers.Adam(learning_rate=learning_rate1)\n",
        "optimizer2 = tf.keras.optimizers.Adam(learning_rate=learning_rate2)\n",
        "\n",
        "batch_size1 = 8\n",
        "batch_size2 = 8\n",
        "\n",
        "kernel_size1 = 3\n",
        "kernel_size2 = 3\n",
        "\n",
        "filter_base1 = 16\n",
        "filter_base2 = 32\n",
        "\n",
        "#loss1 = 'mean_squared_error'\n",
        "#loss2 = 'mean_squared_error'\n",
        "\n",
        "self_defined_loss = False # To get the root mean square error\n",
        "\n",
        "if self_defined_loss:\n",
        "\n",
        "  def loss_func(y_true, y_pred): \n",
        "      \n",
        "      # Root mean square loss\n",
        "      squared_difference = tf.square(y_true - y_pred)\n",
        "      mean_square_loss = tf.reduce_mean(squared_difference, axis=-1)\n",
        "      root_mean_square_loss = tf.sqrt(mean_square_loss + 1e-20)\n",
        "      \n",
        "      return root_mean_square_loss\n",
        "\n",
        "else:\n",
        "\n",
        "  loss_func = 'mean_squared_error'\n",
        "\n",
        "\n",
        "\n",
        "epochs_train = 300\n",
        "\n",
        "save_period = epochs_train\n",
        "\n",
        "initializer = tf.random_normal_initializer(0., 0.02)\n",
        "\n",
        "class V_Net(tf.keras.Model):\n",
        "\n",
        "  def __init__(self):\n",
        "    super(V_Net, self).__init__()\n",
        "    \n",
        "    self.convD1 = tf.keras.layers.Conv3D(filter_base2, kernel_size=kernel_size1, strides=(2,2,2), padding='same', \n",
        "                                        kernel_initializer=initializer, use_bias=False)\n",
        "    self.convD2 = tf.keras.layers.Conv3D(filter_base2*2, kernel_size=kernel_size1, strides=(2,2,2), padding='same', \n",
        "                                        kernel_initializer=initializer, use_bias=False)\n",
        "    self.convD3 = tf.keras.layers.Conv3D(filter_base2*4, kernel_size=kernel_size1, strides=(2,2,2), padding='same', \n",
        "                                        kernel_initializer=initializer, use_bias=False)\n",
        "    self.convD4 = tf.keras.layers.Conv3D(filter_base2*8, kernel_size=kernel_size1, strides=(2,2,2), padding='same', \n",
        "                                        kernel_initializer=initializer, use_bias=False)\n",
        "    self.convD5 = tf.keras.layers.Conv3D(filter_base2*16, kernel_size=kernel_size1, strides=(2,2,2), padding='same', \n",
        "                                        kernel_initializer=initializer, use_bias=False)\n",
        "    self.convD6 = tf.keras.layers.Conv3D(filter_base2*32, kernel_size=kernel_size1, strides=(2,2,2), padding='same', \n",
        "                                        kernel_initializer=initializer, use_bias=False)\n",
        "    \n",
        "    self.conv_batch_norm = tf.keras.layers.BatchNormalization()\n",
        "    self.conv_activation = tf.keras.layers.LeakyReLU()\n",
        "\n",
        "\n",
        "    self.convU1 = tf.keras.layers.Conv3DTranspose(filter_base2*16, kernel_size=kernel_size1, strides=2, padding='same', \n",
        "                                        kernel_initializer=initializer, use_bias=False)\n",
        "    self.convU2 = tf.keras.layers.Conv3DTranspose(filter_base2*8, kernel_size=kernel_size1, strides=2, padding='same', \n",
        "                                        kernel_initializer=initializer, use_bias=False)\n",
        "    self.convU3 = tf.keras.layers.Conv3DTranspose(filter_base2*4, kernel_size=kernel_size1, strides=2, padding='same', \n",
        "                                        kernel_initializer=initializer, use_bias=False)\n",
        "    self.convU4 = tf.keras.layers.Conv3DTranspose(filter_base2*2, kernel_size=kernel_size1, strides=2, padding='same', \n",
        "                                        kernel_initializer=initializer, use_bias=False)\n",
        "    self.convU5 = tf.keras.layers.Conv3DTranspose(filter_base2, kernel_size=kernel_size1, strides=2, padding='same', \n",
        "                                        kernel_initializer=initializer, use_bias=False)\n",
        "    \n",
        "    self.concat = tf.keras.layers.Concatenate()\n",
        "\n",
        "    self.last = tf.keras.layers.Conv3DTranspose(OUTPUT_CHANNELS, kernel_size=kernel_size1, strides=2, padding='same', \n",
        "                                        kernel_initializer=initializer, use_bias=False)\n",
        "    \n",
        "    # self.convU1_batch_norm = tf.keras.layers.BatchNormalization()\n",
        "    # self.convU1_activation = tf.keras.layers.LeakyReLU()\n",
        "  \n",
        "\n",
        "  def call(self, inputs):\n",
        "\n",
        "    x1 = self.convD1(inputs)\n",
        "    x1 = self.conv_batch_norm(x1)\n",
        "    x1 = self.conv_activation(x1)\n",
        "\n",
        "    x2 = self.convD2(x1)\n",
        "    x2 = self.conv_batch_norm(x2)\n",
        "    x2 = self.conv_activation(x2)\n",
        "\n",
        "    x3 = self.convD3(x2)\n",
        "    x3 = self.conv_batch_norm(x3)\n",
        "    x3 = self.conv_activation(x3)\n",
        "\n",
        "    x4 = self.convD4(x3)\n",
        "    x4 = self.conv_batch_norm(x4)\n",
        "    x4 = self.conv_activation(x4)\n",
        "\n",
        "    x5 = self.convD5(x4)\n",
        "    x5 = self.conv_batch_norm(x5)\n",
        "    x5 = self.conv_activation(x5)\n",
        "\n",
        "    x6 = self.convD6(x5)\n",
        "    x6 = self.conv_batch_norm(x6)\n",
        "    x6 = self.conv_activation(x6)\n",
        "\n",
        "    x7 = self.convU1(x6)\n",
        "    x7 = self.conv_batch_norm(x7)\n",
        "    x7 = self.conv_batch_norm(x7)\n",
        "\n",
        "    dy, dx, dz = image3D_gradients(x7)\n",
        "    x8 = self.concat([x7, x5, dy, dx, dz])\n",
        "\n",
        "    x9 = self.convU2(x8)\n",
        "    x9 = self.conv_batch_norm(x9)\n",
        "    x9 = self.conv_batch_norm(x9)\n",
        "\n",
        "    dy, dx, dz = image3D_gradients(x9)\n",
        "    x10 = self.concat([x9, x4, dy, dx, dz])\n",
        "\n",
        "    x11 = self.convU3(x10)\n",
        "    x11 = self.conv_batch_norm(x11)\n",
        "    x11 = self.conv_batch_norm(x11)\n",
        "\n",
        "    dy, dx, dz = image3D_gradients(x11)\n",
        "    x12 = self.concat([x11, x3, dy, dx, dz])\n",
        "\n",
        "    x13 = self.convU4(x12)\n",
        "    x13 = self.conv_batch_norm(x13)\n",
        "    x13 = self.conv_batch_norm(x13)\n",
        "\n",
        "    dy, dx, dz = image3D_gradients(x13)\n",
        "    x14 = self.concat([x13, x2, dy, dx, dz])\n",
        "\n",
        "    x15 = self.convU5(x14)\n",
        "    x15 = self.conv_batch_norm(x15)\n",
        "    x15 = self.conv_batch_norm(x15)\n",
        "\n",
        "    dy, dx, dz = image3D_gradients(x15)\n",
        "    x16 = self.concat([x15, x1, dy, dx, dz])\n",
        "\n",
        "    output = self.last(x16)\n",
        "    return output"
      ]
    },
    {
      "cell_type": "code",
      "source": [
        "input_shape = (7, 28, 28, 28, 1)\n",
        "x = tf.random.normal(input_shape)\n",
        "y = tf.keras.layers.Conv3D(3, 3, activation='relu', input_shape=input_shape[2:])(x)\n",
        "\n",
        "z = tf.keras.layers.Conv3DTranspose(3, 3)(y)"
      ],
      "metadata": {
        "id": "p1h_UkipOvH8"
      },
      "execution_count": 12,
      "outputs": []
    },
    {
      "cell_type": "code",
      "source": [
        "z.get_shape()"
      ],
      "metadata": {
        "colab": {
          "base_uri": "https://localhost:8080/"
        },
        "id": "M8qJcP8lPLRY",
        "outputId": "37f3fc9f-9e84-4ece-9a6d-44dceb0faa22"
      },
      "execution_count": 13,
      "outputs": [
        {
          "output_type": "execute_result",
          "data": {
            "text/plain": [
              "TensorShape([7, 28, 28, 28, 3])"
            ]
          },
          "metadata": {},
          "execution_count": 13
        }
      ]
    },
    {
      "cell_type": "code",
      "source": [
        "y.get_shape()"
      ],
      "metadata": {
        "colab": {
          "base_uri": "https://localhost:8080/"
        },
        "id": "8COoPPpROxS_",
        "outputId": "3d442e77-7efb-4665-dc57-bacee4e2a845"
      },
      "execution_count": 14,
      "outputs": [
        {
          "output_type": "execute_result",
          "data": {
            "text/plain": [
              "TensorShape([7, 26, 26, 26, 3])"
            ]
          },
          "metadata": {},
          "execution_count": 14
        }
      ]
    },
    {
      "cell_type": "code",
      "source": [
        "from tensorflow.python.ops import array_ops\n",
        "import tensorflow as tf\n",
        "\n",
        "def image3D_gradients(image):\n",
        "\n",
        "    \"\"\"Returns image gradients (dy, dx, dz) for each color channel.\n",
        "    Both output tensors have the same shape as the input: [batch_size, h, w, d\n",
        "    c]. The gradient values are organized so that [I(x+1, y, z) - I(x, y, z)] is in\n",
        "    location (x, y, z). That means that dz will always have zeros in the last depth, dy will always have zeros in the last row,\n",
        "    and dx will always have zeros in the last column.\n",
        "    Usage Example:\n",
        "      ```python\n",
        "      BATCH_SIZE = 1\n",
        "      IMAGE_HEIGHT = 5\n",
        "      IMAGE_WIDTH = 5\n",
        "      IMAGE_DEPTH = 5\n",
        "      CHANNELS = 1\n",
        "      image = tf.reshape(tf.range(IMAGE_HEIGHT * IMAGE_WIDTH * IMAGE_DEPTH * CHANNELS,\n",
        "        delta=1, dtype=tf.float32),\n",
        "        shape=(BATCH_SIZE, IMAGE_HEIGHT, IMAGE_WIDTH, IMAGE_DEPTH, CHANNELS))\n",
        "      dy, dx, dz = image3D_gradients(image)\n",
        "      ```\n",
        "    Args:\n",
        "      image: Tensor with shape [batch_size, h, w, d, c].\n",
        "    Returns:\n",
        "      Pair of tensors (dy, dx, dz) holding the vertical, horizontal and depth image\n",
        "      gradients (1-step finite difference).\n",
        "    Raises:\n",
        "      ValueError: If `image` is not a 5D tensor.\n",
        "    \"\"\"\n",
        "    if image.get_shape().ndims != 5:\n",
        "      raise ValueError('image3D_gradients expects a 5D tensor '\n",
        "                      '[batch_size, h, w, d, c], not {}.'.format(image.get_shape()))\n",
        "      \n",
        "    image_shape = array_ops.shape(image)\n",
        "    batch_size, height, width, depth, classes = array_ops.unstack(image_shape)\n",
        "\n",
        "    dy = image[:, 1:, :, :, :] - image[:, :-1, :, :, :]\n",
        "    dx = image[:, :, 1:, :, :] - image[:, :, :-1, :, :]\n",
        "    dz = image[:, :, :, 1:, :] - image[:, :, :, :-1, :]\n",
        "\n",
        "    # Return tensors with same size as original image by concatenating\n",
        "    # zeros. Place the gradient [I(x+1,y, z) - I(x,y, z)] on the base pixel (x, y, z).\n",
        "    shape = array_ops.stack([batch_size, 1, width, depth, classes])\n",
        "    dy = array_ops.concat([dy, array_ops.zeros(shape, image.dtype)], 1)\n",
        "    dy = array_ops.reshape(dy, image_shape)\n",
        "\n",
        "    shape = array_ops.stack([batch_size, height, 1, depth, classes])\n",
        "    dx = array_ops.concat([dx, array_ops.zeros(shape, image.dtype)], 2)\n",
        "    dx = array_ops.reshape(dx, image_shape)\n",
        "\n",
        "    shape = array_ops.stack([batch_size, height, width, 1, classes])\n",
        "    dz = array_ops.concat([dz, array_ops.zeros(shape, image.dtype)], 3)\n",
        "    dz = array_ops.reshape(dz, image_shape)\n",
        "\n",
        "    return dy, dx, dz "
      ],
      "metadata": {
        "id": "Kql6ULmOd3q_"
      },
      "execution_count": 1,
      "outputs": []
    },
    {
      "cell_type": "code",
      "source": [
        "image_shape = array_ops.shape(image)\n",
        "batch_size, height, width, depth, classes = array_ops.unstack(image_shape)\n",
        "\n",
        "dy = image[:, 1:, :, :, :] - image[:, :-1, :, :, :]\n",
        "dx = image[:, :, 1:, :, :] - image[:, :, :-1, :, :]\n",
        "dz = image[:, :, :, 1:, :] - image[:, :, :, :-1, :]\n",
        "\n",
        "# Return tensors with same size as original image by concatenating\n",
        "# zeros. Place the gradient [I(x+1,y, z) - I(x,y, z)] on the base pixel (x, y, z).\n",
        "shape = array_ops.stack([batch_size, 1, width, depth, classes])\n",
        "dy = array_ops.concat([dy, array_ops.zeros(shape, image.dtype)], 1)\n",
        "dy = array_ops.reshape(dy, image_shape)\n",
        "\n",
        "shape = array_ops.stack([batch_size, height, 1, depth, classes])\n",
        "dx = array_ops.concat([dx, array_ops.zeros(shape, image.dtype)], 2)\n",
        "dx = array_ops.reshape(dx, image_shape)\n",
        "\n",
        "shape = array_ops.stack([batch_size, height, width, 1, classes])\n",
        "dz1 = array_ops.concat([dz, array_ops.zeros(shape, image.dtype)], 3)\n",
        "dz = array_ops.reshape(dz1, image_shape)"
      ],
      "metadata": {
        "id": "FoklurinsVmT"
      },
      "execution_count": 19,
      "outputs": []
    },
    {
      "cell_type": "code",
      "source": [
        "dz1.shape"
      ],
      "metadata": {
        "colab": {
          "base_uri": "https://localhost:8080/"
        },
        "id": "dFXMDli6iCOm",
        "outputId": "04319539-5923-4738-ddd1-b190784e811a"
      },
      "execution_count": 23,
      "outputs": [
        {
          "output_type": "execute_result",
          "data": {
            "text/plain": [
              "TensorShape([1, 5, 5, 5, 1])"
            ]
          },
          "metadata": {},
          "execution_count": 23
        }
      ]
    },
    {
      "cell_type": "code",
      "source": [
        "BATCH_SIZE = 1\n",
        "IMAGE_HEIGHT = 5\n",
        "IMAGE_WIDTH = 5\n",
        "IMAGE_DEPTH = 5\n",
        "CHANNELS = 1\n",
        "image = tf.reshape(tf.range(IMAGE_HEIGHT * IMAGE_WIDTH * IMAGE_DEPTH * CHANNELS,\n",
        "  delta=1, dtype=tf.float32),\n",
        "  shape=(BATCH_SIZE, IMAGE_HEIGHT, IMAGE_WIDTH, IMAGE_DEPTH, CHANNELS))\n",
        "dy, dx, dz = image3D_gradients(image)\n",
        "#print(image[0, :,:,0])"
      ],
      "metadata": {
        "id": "rwH-m2OehFGP"
      },
      "execution_count": 2,
      "outputs": []
    },
    {
      "cell_type": "code",
      "source": [
        "concat = tf.keras.layers.Concatenate()\n",
        "\n",
        "concat([image, dy, dx, dz]).get_shape()"
      ],
      "metadata": {
        "colab": {
          "base_uri": "https://localhost:8080/"
        },
        "id": "WnBlwjAYKyaa",
        "outputId": "88186987-17a5-4913-a4dc-71c9ae55db71"
      },
      "execution_count": 5,
      "outputs": [
        {
          "output_type": "execute_result",
          "data": {
            "text/plain": [
              "TensorShape([1, 5, 5, 5, 4])"
            ]
          },
          "metadata": {},
          "execution_count": 5
        }
      ]
    },
    {
      "cell_type": "code",
      "source": [
        "image.get_shape()"
      ],
      "metadata": {
        "colab": {
          "base_uri": "https://localhost:8080/"
        },
        "id": "AXfQEhSJhq5_",
        "outputId": "896cfd05-366e-462d-d1ce-b79cf40c7ce9"
      },
      "execution_count": 6,
      "outputs": [
        {
          "output_type": "execute_result",
          "data": {
            "text/plain": [
              "TensorShape([1, 5, 5, 5, 1])"
            ]
          },
          "metadata": {},
          "execution_count": 6
        }
      ]
    }
  ]
}